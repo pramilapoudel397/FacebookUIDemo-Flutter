{
  "nbformat": 4,
  "nbformat_minor": 0,
  "metadata": {
    "colab": {
      "provenance": [],
      "include_colab_link": true
    },
    "kernelspec": {
      "name": "python3",
      "display_name": "Python 3"
    },
    "language_info": {
      "name": "python"
    }
  },
  "cells": [
    {
      "cell_type": "markdown",
      "metadata": {
        "id": "view-in-github",
        "colab_type": "text"
      },
      "source": [
        "<a href=\"https://colab.research.google.com/github/pramilapoudel397/FacebookUIDemo-Flutter/blob/main/Week3_Exercise1_FCNN_FFNN.ipynb\" target=\"_parent\"><img src=\"https://colab.research.google.com/assets/colab-badge.svg\" alt=\"Open In Colab\"/></a>"
      ]
    },
    {
      "cell_type": "markdown",
      "source": [
        "# A Simple Neural Network operation\n",
        "\n",
        "\n",
        "---\n",
        "\n",
        "This is an exercise to manually execute a shallow, fully connected, feed-forward neural network using the popular NumPy libray."
      ],
      "metadata": {
        "id": "y5Go5rtjVdG_"
      }
    },
    {
      "cell_type": "markdown",
      "source": [
        "# 1. Import Numpy library\n",
        "\n",
        "NumPy is the fundamental package for scientific computing in Python. It is a Python library that provides a multidimensional array object, various derived objects (such as masked arrays and matrices), and an assortment of routines for fast operations on arrays, including mathematical, logical, shape manipulation, sorting, selecting, I/O, discrete Fourier transforms, basic linear algebra, basic statistical operations, random simulation and much more.\n",
        "\n",
        "https://numpy.org/doc/stable/reference/generated/numpy.dot.html"
      ],
      "metadata": {
        "id": "EoZOb7Ah-Raz"
      }
    },
    {
      "cell_type": "code",
      "source": [
        "import numpy as np"
      ],
      "metadata": {
        "id": "yNHth_b6-cB8"
      },
      "execution_count": null,
      "outputs": []
    },
    {
      "cell_type": "markdown",
      "source": [
        "# 2. Define activation functions\n",
        "ReLU = {0: if z<=0; z: if z>0\n",
        "\n",
        "Sigmoid = 1/(1+e^(-z))"
      ],
      "metadata": {
        "id": "_5nevljE-obw"
      }
    },
    {
      "cell_type": "code",
      "source": [
        "def relu(z):\n",
        "  return np.maximum(0.0, z)\n",
        "\n",
        "def sigmoid(z):\n",
        "  return 1 / (1 + np.exp(-z))"
      ],
      "metadata": {
        "id": "DEu4GoAn-sC8"
      },
      "execution_count": null,
      "outputs": []
    },
    {
      "cell_type": "markdown",
      "source": [
        "# 3. Define initial matrices"
      ],
      "metadata": {
        "id": "0SQZNQ4V_F5T"
      }
    },
    {
      "cell_type": "code",
      "source": [
        "# Input, X\n",
        "X = np.array([[1, 3, 5, 7], [2, 2, 8, 6]])\n",
        "\n",
        "# Weight matrix, W1\n",
        "W1 = np.array([[3.5, 0.3, 1.5], [0.2, 0.5, 0.3], [0.2, 1.2, 0.0], [0.3, 0.8, 0.3]])\n",
        "\n",
        "# Bias vector, b1\n",
        "b1 = np.array([1.0, 3.3, 2.4])\n",
        "\n",
        "# Weight matrix, W2\n",
        "W2 = np.array([[0.2, 0.7], [0.3, 0.1], [0.5, 0.1]])\n",
        "\n",
        "# Bias vector, b2\n",
        "b2 = # To-do: enter the second bias vector here!"
      ],
      "metadata": {
        "id": "8sHltJaoK3d1"
      },
      "execution_count": null,
      "outputs": []
    },
    {
      "cell_type": "markdown",
      "source": [
        "# 4. Calculate linear function (hidden layer)\n",
        "\n",
        "NumPy reference library:\n",
        "\n",
        "```\n",
        "numpy.dot(a, b, out=None)\n",
        "```\n",
        "\n",
        "Note: If \"a\" is an N-D array and \"b\" is a 1-D array, it is a sum product over the last axis of \"a\" and \"b\"."
      ],
      "metadata": {
        "id": "Qt7utEPzDuxq"
      }
    },
    {
      "cell_type": "code",
      "source": [
        "z1 = np.dot(X, W1) + b1\n",
        "print(z1)"
      ],
      "metadata": {
        "id": "16ODB-uzD3Zu"
      },
      "execution_count": null,
      "outputs": []
    },
    {
      "cell_type": "markdown",
      "source": [
        "# 5. Calculate activation function (hidden layer)\n",
        "\n",
        "The ReLU function outputs 0 if the input is negative. Otherwise, it outputs the input as it is."
      ],
      "metadata": {
        "id": "6UcyVRIuEI2v"
      }
    },
    {
      "cell_type": "code",
      "source": [
        "# Enter your code here!"
      ],
      "metadata": {
        "id": "R7ZtwcAsEugU"
      },
      "execution_count": null,
      "outputs": []
    },
    {
      "cell_type": "markdown",
      "source": [
        "# 6. Calculate linear function (output layer)\n",
        "\n",
        "It should have the form: z2 = a1*W2 + b2"
      ],
      "metadata": {
        "id": "qURVKs-lE_eB"
      }
    },
    {
      "cell_type": "code",
      "source": [
        "# Enter your code here!"
      ],
      "metadata": {
        "id": "WUM8pBWjKO2X"
      },
      "execution_count": null,
      "outputs": []
    },
    {
      "cell_type": "markdown",
      "source": [
        "# 7. Calculate output layer\n",
        "\n",
        "It should have the form y = sigmoid(z2)"
      ],
      "metadata": {
        "id": "YD_65lQmFgHZ"
      }
    },
    {
      "cell_type": "code",
      "source": [
        "# Enter your code here!"
      ],
      "metadata": {
        "id": "Tmv9ns9QFpl0"
      },
      "execution_count": null,
      "outputs": []
    },
    {
      "cell_type": "markdown",
      "source": [
        "# 8. Result and interpretation\n",
        "\n",
        "Your final result should be:\n",
        "\n",
        "\n",
        "```\n",
        "[[0.99996957 0.99998489]\n",
        " [0.99999567 0.99999914]]\n",
        "```\n",
        "\n",
        "- Each row will represent one particular sample result.\n",
        "\n",
        "- Each column will indicate the value of two mutually inclusive classifiers.\n",
        "\n",
        "- For example, if the input data contains four attributes of two animals and the classifiers are \"Cat/No cat\" and \"Black/No black\", the result could be interpreted as:\n",
        "\n",
        "> Animal 1: Cat?: YES; Black?: YES\n",
        "\n",
        "> Animal 2: Cat?: YES; Black?: YES\n",
        "\n",
        "\n",
        "\n",
        "\n",
        "\n",
        "\n",
        "\n"
      ],
      "metadata": {
        "id": "gPM5H4YjJ-fg"
      }
    }
  ]
}