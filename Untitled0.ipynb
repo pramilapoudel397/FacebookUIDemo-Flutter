{
  "nbformat": 4,
  "nbformat_minor": 0,
  "metadata": {
    "colab": {
      "provenance": [],
      "authorship_tag": "ABX9TyPJTUuKOFp67tj/7Ehhp6/g",
      "include_colab_link": true
    },
    "kernelspec": {
      "name": "python3",
      "display_name": "Python 3"
    },
    "language_info": {
      "name": "python"
    }
  },
  "cells": [
    {
      "cell_type": "markdown",
      "metadata": {
        "id": "view-in-github",
        "colab_type": "text"
      },
      "source": [
        "<a href=\"https://colab.research.google.com/github/pramilapoudel397/FacebookUIDemo-Flutter/blob/main/Untitled0.ipynb\" target=\"_parent\"><img src=\"https://colab.research.google.com/assets/colab-badge.svg\" alt=\"Open In Colab\"/></a>"
      ]
    },
    {
      "cell_type": "code",
      "execution_count": 1,
      "metadata": {
        "id": "2lTeW5_Ye40f"
      },
      "outputs": [],
      "source": [
        "import numpy as np"
      ]
    },
    {
      "cell_type": "code",
      "source": [
        "def relu(z):\n",
        "  return np.maximum(0.0,z)\n",
        "\n",
        "def sigmoid(z):\n",
        "  return 1/(1+np.exp(-z))"
      ],
      "metadata": {
        "id": "pArJpOkKfAhj"
      },
      "execution_count": 3,
      "outputs": []
    },
    {
      "cell_type": "code",
      "source": [
        "# Input, X\n",
        "X = np.array([[1, 3, 5, 7], [2, 2, 8, 6]])\n",
        "\n",
        "# Weight matrix, W1\n",
        "W1 = np.array([[3.5, 0.3, 1.5], [0.2, 0.5, 0.3], [0.2, 1.2, 0.0], [0.3, 0.8, 0.3]])\n",
        "\n",
        "# Bias vector, b1\n",
        "b1 = np.array([1.0, 3.3, 2.4])\n",
        "\n",
        "# Weight matrix, W2\n",
        "W2 = np.array([[0.2, 0.7], [0.3, 0.1], [0.5, 0.1]])\n",
        "\n",
        "# Bias vector, b2\n",
        "b2 = np.array([0.3, 3.0])"
      ],
      "metadata": {
        "id": "0Xs1es9Gfo6V"
      },
      "execution_count": 4,
      "outputs": []
    },
    {
      "cell_type": "code",
      "source": [
        "z1 = np.dot(X, W1) + b1\n",
        "print(z1)"
      ],
      "metadata": {
        "colab": {
          "base_uri": "https://localhost:8080/"
        },
        "id": "1dS9IbovgKyc",
        "outputId": "7d766b11-ed07-477e-ebaa-85cb691c893a"
      },
      "execution_count": 9,
      "outputs": [
        {
          "output_type": "stream",
          "name": "stdout",
          "text": [
            "[[ 8.2 16.7  6.9]\n",
            " [11.8 19.3  7.8]]\n"
          ]
        }
      ]
    },
    {
      "cell_type": "code",
      "source": [
        "a1= relu(z1)"
      ],
      "metadata": {
        "id": "QobYtgAugOjY"
      },
      "execution_count": 10,
      "outputs": []
    },
    {
      "cell_type": "code",
      "source": [
        "z2= np.dot(a1, W2)+b2"
      ],
      "metadata": {
        "id": "vnXPI6U-hIxv"
      },
      "execution_count": 12,
      "outputs": []
    },
    {
      "cell_type": "code",
      "source": [
        "y=sigmoid(z2)\n",
        "print(y)"
      ],
      "metadata": {
        "colab": {
          "base_uri": "https://localhost:8080/"
        },
        "id": "ATs--u1vhQ5C",
        "outputId": "0982aedc-6248-49b7-e53e-cafb1fd5df72"
      },
      "execution_count": 13,
      "outputs": [
        {
          "output_type": "stream",
          "name": "stdout",
          "text": [
            "[[0.99996957 0.99998489]\n",
            " [0.99999567 0.99999914]]\n"
          ]
        }
      ]
    },
    {
      "cell_type": "code",
      "source": [],
      "metadata": {
        "id": "Lwej5tTWhZ2t"
      },
      "execution_count": null,
      "outputs": []
    }
  ]
}